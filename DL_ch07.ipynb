{
  "nbformat": 4,
  "nbformat_minor": 0,
  "metadata": {
    "colab": {
      "name": "DL_ch07.ipynb",
      "provenance": [],
      "authorship_tag": "ABX9TyNpAH26mcWaHvrUX5gDz+U6"
    },
    "kernelspec": {
      "name": "python3",
      "display_name": "Python 3"
    }
  },
  "cells": [
    {
      "cell_type": "markdown",
      "metadata": {
        "id": "8m0d6bg9IHvk"
      },
      "source": [
        "## Multi Class Network"
      ]
    },
    {
      "cell_type": "code",
      "metadata": {
        "id": "OPJ9Pa60hwku"
      },
      "source": [
        "import numpy as np"
      ],
      "execution_count": 1,
      "outputs": []
    },
    {
      "cell_type": "code",
      "metadata": {
        "id": "2ecRXigD7ULp"
      },
      "source": [
        "class MultiClassNetwork:\n",
        "\n",
        "    def __init__(self, units=10, batch_size=32, learning_rate=0.1, l1=0, l2=0):\n",
        "        self.units = units # Number of Neurons\n",
        "        self.batch_size = batch_size \n",
        "        self.w1 = None # Weight of 1st hidden layer\n",
        "        self.b1 = None # intercept of 1st hidden layer\n",
        "        self.w2 = None\n",
        "        self.b2 = None\n",
        "        self.a1 = None # output from hidden layer\n",
        "        self.losses = []\n",
        "        self.val_losses = []\n",
        "        self.lr = learning_rate\n",
        "        self.l1 = l1\n",
        "        self.l2 = l2\n",
        "\n",
        "    def forpass(self, x):\n",
        "        z1 = np.dot(x, self.w1) + self.b1 # first layer\n",
        "        self.a1 = self.sigmoid(z1) # activation\n",
        "        z2 = np.dot(self.a1, self.w2) + self.b2\n",
        "        return z2\n",
        "\n",
        "    def backprop(self, x, err):\n",
        "        m = len(x)\n",
        "        w2_grad = np.dot(self.a1.T, err) / m\n",
        "        b2_grad = np.sum(err) / m\n",
        "\n",
        "        err_to_hidden = np.dot(err, self.w2.T) * self.a1 * (1-self.a1)\n",
        "        \n",
        "        w1_grad = np.dot(x.T, err_to_hidden) /m\n",
        "        b1_grad = np.sum(err_to_hidden, axis=0) / m\n",
        "        return w1_grad, b1_grad, w2_grad, b2_grad\n",
        "\n",
        "    def sigmoid(self, z):\n",
        "        a = 1 / (1 + np.exp(-z))\n",
        "        return a\n",
        "\n",
        "    def softmax(self, z):\n",
        "        exp_z = np.exp(z)\n",
        "        return exp_z / np.sum(exp_z, axis=1).reshape(-1, 1)\n",
        "\n",
        "\n",
        "    def init_weights(self, n_features, n_classes):\n",
        "        self.w1 = np.random.normal(0, 1, (n_features, self.units))\n",
        "        self.b1 = np.zeros(self.units)\n",
        "\n",
        "        self.w2 = np.random.normal(0, 1, (self.units, n_classes))\n",
        "        self.b2 = np.zeros(n_classes)\n",
        "\n",
        "    def fit(self, x, y, epochs=100, x_val=None, y_val=None):\n",
        "        np.random.seed(42)\n",
        "        self.init_weights(x.shape[1], y.shape[1]) # initialize weights of hidden and output layer\n",
        "\n",
        "        for i in range(epochs):\n",
        "            loss = 0\n",
        "            print('.', end='')\n",
        "            # Mini batch from generator\n",
        "            for x_batch, y_batch in self.gen_batch(x, y):\n",
        "                a = self.training(x_batch, y_batch)\n",
        "                a = np.clip(a, 1e-10, 1-1e-10)\n",
        "                loss += np.sum(-y_batch*np.log(a))\n",
        "            self.losses.append((loss + self.reg_loss()) / len(x))\n",
        "\n",
        "            self.update_val_loss(x_val, y_val)\n",
        "\n",
        "    def gen_batch(self, x, y):\n",
        "        length = len(x)\n",
        "        bins = length // self.batch_size\n",
        "        if length % self.batch_size:\n",
        "            bins += 1\n",
        "        indexes = np.random.permutation(np.arange(len(x)))\n",
        "        x = x[indexes]\n",
        "        y = y[indexes]\n",
        "        for i in range(bins):\n",
        "            start = self.batch_size * i\n",
        "            end = self.batch_size * (i + 1)\n",
        "            yield x[start:end], y[start:end]\n",
        "        \n",
        "    def training(self, x, y): \n",
        "        m = len(x)\n",
        "        z = self.forpass(x)\n",
        "        a = self.softmax(z) # Softmax\n",
        "        err = -(y - a)\n",
        "\n",
        "        w1_grad, b1_grad, w2_grad, b2_grad = self.backprop(x, err)\n",
        "\n",
        "        w1_grad += (self.l1 * np.sign(self.w1) + self.l2 * self.w1) / m\n",
        "        w2_grad += (self.l1 * np.sign(self.w2) + self.l2 * self.w2) / m\n",
        "\n",
        "        self.w1 -= self.lr * w1_grad\n",
        "        self.b1 -= self.lr * b1_grad\n",
        "        self.w2 -= self.lr * w2_grad\n",
        "        self.b2 -= self.lr * b2_grad\n",
        "        return a\n",
        "\n",
        "    def predict(self, x):\n",
        "        z = self.forpass(x)\n",
        "        return np.argmax(z, axis=1) \n",
        "        # No need to pass activation function (softmax), just use z\n",
        "\n",
        "    def score(self, x, y):\n",
        "        return np.mean(self.predict(x) == np.argmax(y, axis=1))\n",
        "\n",
        "    def reg_loss(self):\n",
        "        return self.l1 * (np.sum(np.abs(self.w1)) + np.sum(np.abs(self.w2))) + \\\n",
        "               self.l2 / 2 * (np.sum(self.w1**2) + np.sum(self.w2**2))\n",
        "\n",
        "    def update_val_loss(self, x_val, y_val):\n",
        "        z = self.forpass(x_val)\n",
        "        a = self.softmax(z)\n",
        "        a = np.clip(a, 1e-10, 1-1e-10)\n",
        "\n",
        "        val_loss = np.sum(-y_val*np.log(a)) \n",
        "        self.val_losses.append((val_loss + self.reg_loss()) / len(y_val))"
      ],
      "execution_count": 2,
      "outputs": []
    },
    {
      "cell_type": "code",
      "metadata": {
        "id": "N_3XoLP1fioQ"
      },
      "source": [
        "import tensorflow as tf"
      ],
      "execution_count": 3,
      "outputs": []
    },
    {
      "cell_type": "code",
      "metadata": {
        "id": "yBm9C0QLf8e3",
        "outputId": "388b2dc8-79a6-498d-f7d5-527b21b82174",
        "colab": {
          "base_uri": "https://localhost:8080/",
          "height": 35
        }
      },
      "source": [
        "tf.__version__"
      ],
      "execution_count": 4,
      "outputs": [
        {
          "output_type": "execute_result",
          "data": {
            "application/vnd.google.colaboratory.intrinsic+json": {
              "type": "string"
            },
            "text/plain": [
              "'2.3.0'"
            ]
          },
          "metadata": {
            "tags": []
          },
          "execution_count": 4
        }
      ]
    },
    {
      "cell_type": "code",
      "metadata": {
        "id": "jRAdZzHGf-bs",
        "outputId": "efe1388a-1a6e-4ef9-8967-348a8d1f0978",
        "colab": {
          "base_uri": "https://localhost:8080/",
          "height": 153
        }
      },
      "source": [
        "(x_train_all, y_train_all), (x_test, y_test) = tf.keras.datasets.fashion_mnist.load_data()"
      ],
      "execution_count": 5,
      "outputs": [
        {
          "output_type": "stream",
          "text": [
            "Downloading data from https://storage.googleapis.com/tensorflow/tf-keras-datasets/train-labels-idx1-ubyte.gz\n",
            "32768/29515 [=================================] - 0s 0us/step\n",
            "Downloading data from https://storage.googleapis.com/tensorflow/tf-keras-datasets/train-images-idx3-ubyte.gz\n",
            "26427392/26421880 [==============================] - 0s 0us/step\n",
            "Downloading data from https://storage.googleapis.com/tensorflow/tf-keras-datasets/t10k-labels-idx1-ubyte.gz\n",
            "8192/5148 [===============================================] - 0s 0us/step\n",
            "Downloading data from https://storage.googleapis.com/tensorflow/tf-keras-datasets/t10k-images-idx3-ubyte.gz\n",
            "4423680/4422102 [==============================] - 0s 0us/step\n"
          ],
          "name": "stdout"
        }
      ]
    },
    {
      "cell_type": "code",
      "metadata": {
        "id": "GSSSsvX9gM_W",
        "outputId": "4272c791-9e58-49fe-d8f6-4f85a1cc7c17",
        "colab": {
          "base_uri": "https://localhost:8080/",
          "height": 34
        }
      },
      "source": [
        "print(x_train_all.shape, y_train_all.shape)"
      ],
      "execution_count": 6,
      "outputs": [
        {
          "output_type": "stream",
          "text": [
            "(60000, 28, 28) (60000,)\n"
          ],
          "name": "stdout"
        }
      ]
    },
    {
      "cell_type": "code",
      "metadata": {
        "id": "0edvyVpOgRcv",
        "outputId": "32a0dc42-72c9-4c0b-df5e-8eca9983b562",
        "colab": {
          "base_uri": "https://localhost:8080/",
          "height": 265
        }
      },
      "source": [
        "import matplotlib.pyplot as plt\n",
        "plt.imshow(x_train_all[0], cmap='gray')\n",
        "plt.show()"
      ],
      "execution_count": 7,
      "outputs": [
        {
          "output_type": "display_data",
          "data": {
            "image/png": "[encoded data removed]",
            "text/plain": [
              "<Figure size 432x288 with 1 Axes>"
            ]
          },
          "metadata": {
            "tags": [],
            "needs_background": "light"
          }
        }
      ]
    },
    {
      "cell_type": "code",
      "metadata": {
        "id": "khQRMGwBgqbV",
        "outputId": "dfa192ad-402a-40b4-c613-773398592105",
        "colab": {
          "base_uri": "https://localhost:8080/",
          "height": 34
        }
      },
      "source": [
        "print(y_train_all[:10])"
      ],
      "execution_count": 8,
      "outputs": [
        {
          "output_type": "stream",
          "text": [
            "[9 0 0 3 0 2 7 2 5 5]\n"
          ],
          "name": "stdout"
        }
      ]
    },
    {
      "cell_type": "code",
      "metadata": {
        "id": "4ODsWpjWhF3W"
      },
      "source": [
        "class_names = ['Tshirts/Top', 'Pants', 'Sweater', 'Dress', 'Coat', 'Sandle', 'Shirts', 'Sneakers', 'Bag', 'AnkleBoots' ]"
      ],
      "execution_count": 9,
      "outputs": []
    },
    {
      "cell_type": "code",
      "metadata": {
        "id": "bkIuM9ZVhhFq",
        "outputId": "f55f47db-880f-48d3-8f69-22bcbcaf58ff",
        "colab": {
          "base_uri": "https://localhost:8080/",
          "height": 34
        }
      },
      "source": [
        "print(class_names[y_train_all[0]])"
      ],
      "execution_count": 10,
      "outputs": [
        {
          "output_type": "stream",
          "text": [
            "AnkleBoots\n"
          ],
          "name": "stdout"
        }
      ]
    },
    {
      "cell_type": "code",
      "metadata": {
        "id": "5b8aySmKhlsS",
        "outputId": "357cf4f0-ec1a-4eda-b5e4-b885ed8079d1",
        "colab": {
          "base_uri": "https://localhost:8080/",
          "height": 34
        }
      },
      "source": [
        "np.bincount(y_train_all)"
      ],
      "execution_count": 11,
      "outputs": [
        {
          "output_type": "execute_result",
          "data": {
            "text/plain": [
              "array([6000, 6000, 6000, 6000, 6000, 6000, 6000, 6000, 6000, 6000])"
            ]
          },
          "metadata": {
            "tags": []
          },
          "execution_count": 11
        }
      ]
    },
    {
      "cell_type": "code",
      "metadata": {
        "id": "CA83qAbjhze3"
      },
      "source": [
        "from sklearn.model_selection import train_test_split\n",
        "x_train, x_val, y_train, y_val = train_test_split(x_train_all, y_train_all, \n",
        "                                                  stratify=y_train_all, test_size=0.2, random_state=42)"
      ],
      "execution_count": 12,
      "outputs": []
    },
    {
      "cell_type": "code",
      "metadata": {
        "id": "pbBYRk8oiPOV",
        "outputId": "6351b0a8-80fc-4122-ce61-86b42d344e98",
        "colab": {
          "base_uri": "https://localhost:8080/",
          "height": 34
        }
      },
      "source": [
        "np.bincount(y_train)"
      ],
      "execution_count": 13,
      "outputs": [
        {
          "output_type": "execute_result",
          "data": {
            "text/plain": [
              "array([4800, 4800, 4800, 4800, 4800, 4800, 4800, 4800, 4800, 4800])"
            ]
          },
          "metadata": {
            "tags": []
          },
          "execution_count": 13
        }
      ]
    },
    {
      "cell_type": "code",
      "metadata": {
        "id": "YJp9GckSiRZS",
        "outputId": "51f4e0b2-791b-41b2-d111-5bb440024819",
        "colab": {
          "base_uri": "https://localhost:8080/",
          "height": 34
        }
      },
      "source": [
        "np.bincount(y_val)"
      ],
      "execution_count": 14,
      "outputs": [
        {
          "output_type": "execute_result",
          "data": {
            "text/plain": [
              "array([1200, 1200, 1200, 1200, 1200, 1200, 1200, 1200, 1200, 1200])"
            ]
          },
          "metadata": {
            "tags": []
          },
          "execution_count": 14
        }
      ]
    },
    {
      "cell_type": "code",
      "metadata": {
        "id": "ZReSw7s0iS9J"
      },
      "source": [
        "# Normalization\n",
        "\n",
        "x_train = x_train / 255\n",
        "x_val = x_val /255"
      ],
      "execution_count": 15,
      "outputs": []
    },
    {
      "cell_type": "code",
      "metadata": {
        "id": "n_D8IfkujI9U"
      },
      "source": [
        "# 2d -> 1d\n",
        "\n",
        "x_train = x_train.reshape(-1, 784)\n",
        "x_val = x_val.reshape(-1, 784)"
      ],
      "execution_count": 16,
      "outputs": []
    },
    {
      "cell_type": "code",
      "metadata": {
        "id": "k3WHDkdrjUMR",
        "outputId": "638efc07-9d34-4908-8073-e752a711184d",
        "colab": {
          "base_uri": "https://localhost:8080/",
          "height": 34
        }
      },
      "source": [
        "print(x_train.shape, x_val.shape)"
      ],
      "execution_count": 17,
      "outputs": [
        {
          "output_type": "stream",
          "text": [
            "(48000, 784) (12000, 784)\n"
          ],
          "name": "stdout"
        }
      ]
    },
    {
      "cell_type": "code",
      "metadata": {
        "id": "_dAqbF63jVtT"
      },
      "source": [
        "# One-hot Enoding for target varaiales\n",
        "y_train_encoded = tf.keras.utils.to_categorical(y_train)\n",
        "y_val_encoded = tf.keras.utils.to_categorical(y_val)"
      ],
      "execution_count": 18,
      "outputs": []
    },
    {
      "cell_type": "code",
      "metadata": {
        "id": "WbQqabQnkyDP",
        "outputId": "405f7301-5ced-4dd3-dd11-e25b67f40fc5",
        "colab": {
          "base_uri": "https://localhost:8080/",
          "height": 34
        }
      },
      "source": [
        "print(y_train_encoded.shape, y_val_encoded.shape)"
      ],
      "execution_count": 19,
      "outputs": [
        {
          "output_type": "stream",
          "text": [
            "(48000, 10) (12000, 10)\n"
          ],
          "name": "stdout"
        }
      ]
    },
    {
      "cell_type": "code",
      "metadata": {
        "id": "0UNml1QAk6FE",
        "outputId": "253e54ee-2825-4623-be75-9f091b6fe9d6",
        "colab": {
          "base_uri": "https://localhost:8080/",
          "height": 34
        }
      },
      "source": [
        "print(y_train[0], y_train_encoded[0])"
      ],
      "execution_count": 20,
      "outputs": [
        {
          "output_type": "stream",
          "text": [
            "6 [0. 0. 0. 0. 0. 0. 1. 0. 0. 0.]\n"
          ],
          "name": "stdout"
        }
      ]
    },
    {
      "cell_type": "code",
      "metadata": {
        "id": "SHb5GhO7lMh6",
        "outputId": "9e84de7a-03dc-47be-fffd-1e5747008218",
        "colab": {
          "base_uri": "https://localhost:8080/",
          "height": 34
        }
      },
      "source": [
        "fc = MultiClassNetwork(units=100, batch_size=256)\n",
        "fc.fit(x_train, y_train_encoded, x_val=x_val, y_val=y_val_encoded, epochs=40)"
      ],
      "execution_count": 21,
      "outputs": [
        {
          "output_type": "stream",
          "text": [
            "........................................"
          ],
          "name": "stdout"
        }
      ]
    },
    {
      "cell_type": "code",
      "metadata": {
        "id": "nQcnJmBFlcHs",
        "outputId": "3cd27ad8-85dd-4200-bf85-c126d51bf26f",
        "colab": {
          "base_uri": "https://localhost:8080/",
          "height": 279
        }
      },
      "source": [
        "plt.plot(fc.losses)\n",
        "plt.plot(fc.val_losses)\n",
        "plt.ylabel('loss')\n",
        "plt.xlabel('iteration')\n",
        "plt.legend(['train_loss', 'val_loss'])\n",
        "plt.show()"
      ],
      "execution_count": 22,
      "outputs": [
        {
          "output_type": "display_data",
          "data": {
            "image/png": "[encoded data removed]",
            "text/plain": [
              "<Figure size 432x288 with 1 Axes>"
            ]
          },
          "metadata": {
            "tags": [],
            "needs_background": "light"
          }
        }
      ]
    },
    {
      "cell_type": "code",
      "metadata": {
        "id": "TKtv-ZYnqPnI",
        "outputId": "e431d759-cc9c-4187-cd4a-5bb848dd3f22",
        "colab": {
          "base_uri": "https://localhost:8080/",
          "height": 34
        }
      },
      "source": [
        "fc.score(x_val, y_val_encoded)"
      ],
      "execution_count": 23,
      "outputs": [
        {
          "output_type": "execute_result",
          "data": {
            "text/plain": [
              "0.8150833333333334"
            ]
          },
          "metadata": {
            "tags": []
          },
          "execution_count": 23
        }
      ]
    },
    {
      "cell_type": "code",
      "metadata": {
        "id": "vVJwVplVqfGJ"
      },
      "source": [
        "# Using TensorFlow (Keras)"
      ],
      "execution_count": 24,
      "outputs": []
    },
    {
      "cell_type": "code",
      "metadata": {
        "id": "46nqruCNF2_0",
        "outputId": "fdbd07c4-8935-4bd3-f83c-18a8c0d528d9",
        "colab": {
          "base_uri": "https://localhost:8080/",
          "height": 1000
        }
      },
      "source": [
        "from tensorflow.keras import Sequential\n",
        "from tensorflow.keras.layers import Dense\n",
        "\n",
        "model = Sequential()\n",
        "\n",
        "model.add(Dense(100, activation='sigmoid', input_shape=(784,)))\n",
        "model.add(Dense(10, activation='softmax'))\n",
        "\n",
        "model.compile(optimizer='sgd', loss='categorical_crossentropy', metrics=['accuracy'])\n",
        "\n",
        "history = model.fit(x_train, y_train_encoded, epochs=40, validation_data=(x_val, y_val_encoded))"
      ],
      "execution_count": 25,
      "outputs": [
        {
          "output_type": "stream",
          "text": [
            "Epoch 1/40\n",
            "1500/1500 [==============================] - 4s 3ms/step - loss: 1.3714 - accuracy: 0.6416 - val_loss: 0.9555 - val_accuracy: 0.7239\n",
            "Epoch 2/40\n",
            "1500/1500 [==============================] - 3s 2ms/step - loss: 0.8363 - accuracy: 0.7412 - val_loss: 0.7465 - val_accuracy: 0.7596\n",
            "Epoch 3/40\n",
            "1500/1500 [==============================] - 3s 2ms/step - loss: 0.7079 - accuracy: 0.7627 - val_loss: 0.6617 - val_accuracy: 0.7761\n",
            "Epoch 4/40\n",
            "1500/1500 [==============================] - 3s 2ms/step - loss: 0.6440 - accuracy: 0.7799 - val_loss: 0.6108 - val_accuracy: 0.7912\n",
            "Epoch 5/40\n",
            "1500/1500 [==============================] - 3s 2ms/step - loss: 0.6029 - accuracy: 0.7930 - val_loss: 0.5758 - val_accuracy: 0.8036\n",
            "Epoch 6/40\n",
            "1500/1500 [==============================] - 3s 2ms/step - loss: 0.5734 - accuracy: 0.8029 - val_loss: 0.5493 - val_accuracy: 0.8102\n",
            "Epoch 7/40\n",
            "1500/1500 [==============================] - 3s 2ms/step - loss: 0.5511 - accuracy: 0.8098 - val_loss: 0.5301 - val_accuracy: 0.8169\n",
            "Epoch 8/40\n",
            "1500/1500 [==============================] - 3s 2ms/step - loss: 0.5334 - accuracy: 0.8165 - val_loss: 0.5138 - val_accuracy: 0.8217\n",
            "Epoch 9/40\n",
            "1500/1500 [==============================] - 3s 2ms/step - loss: 0.5193 - accuracy: 0.8195 - val_loss: 0.5019 - val_accuracy: 0.8250\n",
            "Epoch 10/40\n",
            "1500/1500 [==============================] - 3s 2ms/step - loss: 0.5073 - accuracy: 0.8239 - val_loss: 0.4899 - val_accuracy: 0.8282\n",
            "Epoch 11/40\n",
            "1500/1500 [==============================] - 3s 2ms/step - loss: 0.4973 - accuracy: 0.8271 - val_loss: 0.4805 - val_accuracy: 0.8314\n",
            "Epoch 12/40\n",
            "1500/1500 [==============================] - 4s 2ms/step - loss: 0.4883 - accuracy: 0.8300 - val_loss: 0.4727 - val_accuracy: 0.8338\n",
            "Epoch 13/40\n",
            "1500/1500 [==============================] - 4s 2ms/step - loss: 0.4803 - accuracy: 0.8328 - val_loss: 0.4666 - val_accuracy: 0.8359\n",
            "Epoch 14/40\n",
            "1500/1500 [==============================] - 3s 2ms/step - loss: 0.4737 - accuracy: 0.8350 - val_loss: 0.4596 - val_accuracy: 0.8372\n",
            "Epoch 15/40\n",
            "1500/1500 [==============================] - 3s 2ms/step - loss: 0.4675 - accuracy: 0.8366 - val_loss: 0.4536 - val_accuracy: 0.8397\n",
            "Epoch 16/40\n",
            "1500/1500 [==============================] - 3s 2ms/step - loss: 0.4619 - accuracy: 0.8382 - val_loss: 0.4486 - val_accuracy: 0.8413\n",
            "Epoch 17/40\n",
            "1500/1500 [==============================] - 3s 2ms/step - loss: 0.4565 - accuracy: 0.8406 - val_loss: 0.4440 - val_accuracy: 0.8442\n",
            "Epoch 18/40\n",
            "1500/1500 [==============================] - 3s 2ms/step - loss: 0.4517 - accuracy: 0.8416 - val_loss: 0.4398 - val_accuracy: 0.8455\n",
            "Epoch 19/40\n",
            "1500/1500 [==============================] - 3s 2ms/step - loss: 0.4473 - accuracy: 0.8442 - val_loss: 0.4379 - val_accuracy: 0.8431\n",
            "Epoch 20/40\n",
            "1500/1500 [==============================] - 3s 2ms/step - loss: 0.4430 - accuracy: 0.8451 - val_loss: 0.4318 - val_accuracy: 0.8487\n",
            "Epoch 21/40\n",
            "1500/1500 [==============================] - 3s 2ms/step - loss: 0.4391 - accuracy: 0.8463 - val_loss: 0.4291 - val_accuracy: 0.8482\n",
            "Epoch 22/40\n",
            "1500/1500 [==============================] - 3s 2ms/step - loss: 0.4354 - accuracy: 0.8474 - val_loss: 0.4265 - val_accuracy: 0.8488\n",
            "Epoch 23/40\n",
            "1500/1500 [==============================] - 3s 2ms/step - loss: 0.4318 - accuracy: 0.8489 - val_loss: 0.4222 - val_accuracy: 0.8522\n",
            "Epoch 24/40\n",
            "1500/1500 [==============================] - 3s 2ms/step - loss: 0.4287 - accuracy: 0.8495 - val_loss: 0.4204 - val_accuracy: 0.8533\n",
            "Epoch 25/40\n",
            "1500/1500 [==============================] - 3s 2ms/step - loss: 0.4255 - accuracy: 0.8509 - val_loss: 0.4173 - val_accuracy: 0.8536\n",
            "Epoch 26/40\n",
            "1500/1500 [==============================] - 3s 2ms/step - loss: 0.4224 - accuracy: 0.8517 - val_loss: 0.4145 - val_accuracy: 0.8547\n",
            "Epoch 27/40\n",
            "1500/1500 [==============================] - 3s 2ms/step - loss: 0.4197 - accuracy: 0.8526 - val_loss: 0.4124 - val_accuracy: 0.8545\n",
            "Epoch 28/40\n",
            "1500/1500 [==============================] - 3s 2ms/step - loss: 0.4169 - accuracy: 0.8526 - val_loss: 0.4101 - val_accuracy: 0.8540\n",
            "Epoch 29/40\n",
            "1500/1500 [==============================] - 3s 2ms/step - loss: 0.4145 - accuracy: 0.8536 - val_loss: 0.4077 - val_accuracy: 0.8574\n",
            "Epoch 30/40\n",
            "1500/1500 [==============================] - 3s 2ms/step - loss: 0.4119 - accuracy: 0.8549 - val_loss: 0.4056 - val_accuracy: 0.8567\n",
            "Epoch 31/40\n",
            "1500/1500 [==============================] - 3s 2ms/step - loss: 0.4094 - accuracy: 0.8558 - val_loss: 0.4030 - val_accuracy: 0.8576\n",
            "Epoch 32/40\n",
            "1500/1500 [==============================] - 3s 2ms/step - loss: 0.4071 - accuracy: 0.8557 - val_loss: 0.4031 - val_accuracy: 0.8563\n",
            "Epoch 33/40\n",
            "1500/1500 [==============================] - 3s 2ms/step - loss: 0.4048 - accuracy: 0.8577 - val_loss: 0.3995 - val_accuracy: 0.8593\n",
            "Epoch 34/40\n",
            "1500/1500 [==============================] - 3s 2ms/step - loss: 0.4027 - accuracy: 0.8577 - val_loss: 0.4000 - val_accuracy: 0.8582\n",
            "Epoch 35/40\n",
            "1500/1500 [==============================] - 3s 2ms/step - loss: 0.4005 - accuracy: 0.8586 - val_loss: 0.3964 - val_accuracy: 0.8587\n",
            "Epoch 36/40\n",
            "1500/1500 [==============================] - 3s 2ms/step - loss: 0.3988 - accuracy: 0.8584 - val_loss: 0.3941 - val_accuracy: 0.8608\n",
            "Epoch 37/40\n",
            "1500/1500 [==============================] - 3s 2ms/step - loss: 0.3968 - accuracy: 0.8595 - val_loss: 0.3956 - val_accuracy: 0.8590\n",
            "Epoch 38/40\n",
            "1500/1500 [==============================] - 3s 2ms/step - loss: 0.3948 - accuracy: 0.8606 - val_loss: 0.3920 - val_accuracy: 0.8600\n",
            "Epoch 39/40\n",
            "1500/1500 [==============================] - 3s 2ms/step - loss: 0.3929 - accuracy: 0.8608 - val_loss: 0.3896 - val_accuracy: 0.8621\n",
            "Epoch 40/40\n",
            "1500/1500 [==============================] - 3s 2ms/step - loss: 0.3910 - accuracy: 0.8616 - val_loss: 0.3903 - val_accuracy: 0.8620\n"
          ],
          "name": "stdout"
        }
      ]
    },
    {
      "cell_type": "code",
      "metadata": {
        "id": "Cdb5ttcOISVi",
        "outputId": "9b7516c1-d801-4e13-a552-a27a21c6d455",
        "colab": {
          "base_uri": "https://localhost:8080/",
          "height": 34
        }
      },
      "source": [
        "print(history.history.keys())"
      ],
      "execution_count": 26,
      "outputs": [
        {
          "output_type": "stream",
          "text": [
            "dict_keys(['loss', 'accuracy', 'val_loss', 'val_accuracy'])\n"
          ],
          "name": "stdout"
        }
      ]
    },
    {
      "cell_type": "code",
      "metadata": {
        "id": "cxs4uv5nJXRA",
        "outputId": "9b120148-fcd3-4fa6-9a8b-9d8391c4e6a6",
        "colab": {
          "base_uri": "https://localhost:8080/",
          "height": 279
        }
      },
      "source": [
        "plt.plot(history.history['loss'])\n",
        "plt.plot(history.history['val_loss'])\n",
        "plt.ylabel('loss')\n",
        "plt.xlabel('epoch')\n",
        "plt.legend(['train_loss', 'val_loss'])\n",
        "plt.show()"
      ],
      "execution_count": 27,
      "outputs": [
        {
          "output_type": "display_data",
          "data": {
            "image/png": "[encoded data removed]",
            "text/plain": [
              "<Figure size 432x288 with 1 Axes>"
            ]
          },
          "metadata": {
            "tags": [],
            "needs_background": "light"
          }
        }
      ]
    },
    {
      "cell_type": "code",
      "metadata": {
        "id": "iz_MQk91J0FK",
        "outputId": "4df16b76-c31b-433c-a1fd-7c1a9cb57369",
        "colab": {
          "base_uri": "https://localhost:8080/",
          "height": 279
        }
      },
      "source": [
        "plt.plot(history.history['accuracy'])\n",
        "plt.plot(history.history['val_accuracy'])\n",
        "plt.ylabel('loss')\n",
        "plt.xlabel('epoch')\n",
        "plt.legend(['train_accuracy', 'val_accuracy'])\n",
        "plt.show()"
      ],
      "execution_count": 28,
      "outputs": [
        {
          "output_type": "display_data",
          "data": {
            "image/png": "[encoded data removed]",
            "text/plain": [
              "<Figure size 432x288 with 1 Axes>"
            ]
          },
          "metadata": {
            "tags": [],
            "needs_background": "light"
          }
        }
      ]
    },
    {
      "cell_type": "code",
      "metadata": {
        "id": "kvG4eOHbKDp0",
        "outputId": "11a0a8e5-d3c7-4e2b-9100-3e4d63c9b650",
        "colab": {
          "base_uri": "https://localhost:8080/",
          "height": 34
        }
      },
      "source": [
        "loss, accuracy = model.evaluate(x_val, y_val_encoded, verbose=0)\n",
        "print(accuracy)"
      ],
      "execution_count": 29,
      "outputs": [
        {
          "output_type": "stream",
          "text": [
            "0.8619999885559082\n"
          ],
          "name": "stdout"
        }
      ]
    },
    {
      "cell_type": "code",
      "metadata": {
        "id": "11lYv1cBKVKP"
      },
      "source": [
        ""
      ],
      "execution_count": 29,
      "outputs": []
    }
  ]
}