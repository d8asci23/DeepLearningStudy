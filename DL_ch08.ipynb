{
  "nbformat": 4,
  "nbformat_minor": 0,
  "metadata": {
    "colab": {
      "name": "DL_ch08.ipynb",
      "provenance": [],
      "authorship_tag": "ABX9TyN0giecb5/4IHFLObXtS/WG"
    },
    "kernelspec": {
      "name": "python3",
      "display_name": "Python 3"
    }
  },
  "cells": [
    {
      "cell_type": "markdown",
      "metadata": {
        "id": "r-3cjwEmLZB4"
      },
      "source": [
        "## Convolutioanl Neural Network "
      ]
    },
    {
      "cell_type": "code",
      "metadata": {
        "id": "VZ3WzVUFLiIp"
      },
      "source": [
        "import numpy as np\n",
        "w = np.array([2, 1, 5, 3])\n",
        "x = np.array([2, 8, 3, 7, 1, 2, 0, 4, 5])"
      ],
      "execution_count": 1,
      "outputs": []
    },
    {
      "cell_type": "code",
      "metadata": {
        "id": "PrHSXOKlLxA_",
        "outputId": "d599299c-bde7-4b3c-a795-2e929a997329",
        "colab": {
          "base_uri": "https://localhost:8080/",
          "height": 34
        }
      },
      "source": [
        "w_r = np.flip(w)\n",
        "print(w_r)\n",
        "\n",
        "# w_r = w[::-1]"
      ],
      "execution_count": 2,
      "outputs": [
        {
          "output_type": "stream",
          "text": [
            "[3 5 1 2]\n"
          ],
          "name": "stdout"
        }
      ]
    },
    {
      "cell_type": "code",
      "metadata": {
        "id": "Vq1sEHs0Lzpb",
        "outputId": "3afed9e5-2f65-4dcf-8af8-b52874008c88",
        "colab": {
          "base_uri": "https://localhost:8080/",
          "height": 119
        }
      },
      "source": [
        "for i in range(6):\n",
        "    print(np.dot(x[i:i+4], w_r))"
      ],
      "execution_count": 3,
      "outputs": [
        {
          "output_type": "stream",
          "text": [
            "63\n",
            "48\n",
            "49\n",
            "28\n",
            "21\n",
            "20\n"
          ],
          "name": "stdout"
        }
      ]
    },
    {
      "cell_type": "code",
      "metadata": {
        "id": "ZKTN9UrKMCfs",
        "outputId": "449c8782-c8ff-4b89-883b-8a727affd21a",
        "colab": {
          "base_uri": "https://localhost:8080/",
          "height": 34
        }
      },
      "source": [
        "# Using scipy for convolution\n",
        "# valid padding\n",
        "from scipy.signal import convolve\n",
        "convolve(x, w, mode='valid')"
      ],
      "execution_count": 4,
      "outputs": [
        {
          "output_type": "execute_result",
          "data": {
            "text/plain": [
              "array([63, 48, 49, 28, 21, 20])"
            ]
          },
          "metadata": {
            "tags": []
          },
          "execution_count": 4
        }
      ]
    },
    {
      "cell_type": "code",
      "metadata": {
        "id": "k0kGZwr0MOYy",
        "outputId": "b30d3b0f-15c5-4d2b-d4e1-6d53746ca6d1",
        "colab": {
          "base_uri": "https://localhost:8080/",
          "height": 34
        }
      },
      "source": [
        "# Cross-Correlation (C-C is usually used doing CNN b/c weights would be randomized. no need to reverse w)\n",
        "\n",
        "# valid padding \n",
        "from scipy.signal import correlate\n",
        "correlate(x, w, mode='valid')"
      ],
      "execution_count": 5,
      "outputs": [
        {
          "output_type": "execute_result",
          "data": {
            "text/plain": [
              "array([48, 57, 24, 25, 16, 39])"
            ]
          },
          "metadata": {
            "tags": []
          },
          "execution_count": 5
        }
      ]
    },
    {
      "cell_type": "code",
      "metadata": {
        "id": "I_9vafqyMtES",
        "outputId": "8e65d621-895b-4aff-fa93-75987685f275",
        "colab": {
          "base_uri": "https://localhost:8080/",
          "height": 34
        }
      },
      "source": [
        "# full padding\n",
        "correlate(x, w, mode='full')"
      ],
      "execution_count": 6,
      "outputs": [
        {
          "output_type": "execute_result",
          "data": {
            "text/plain": [
              "array([ 6, 34, 51, 48, 57, 24, 25, 16, 39, 29, 13, 10])"
            ]
          },
          "metadata": {
            "tags": []
          },
          "execution_count": 6
        }
      ]
    },
    {
      "cell_type": "code",
      "metadata": {
        "id": "LnMFXTIiO2Bg",
        "outputId": "776e41b3-0ac4-4457-d7d0-9a93289478ce",
        "colab": {
          "base_uri": "https://localhost:8080/",
          "height": 34
        }
      },
      "source": [
        "# same padding (mostly used when doing CNN)\n",
        "correlate(x, w, mode='same')"
      ],
      "execution_count": 7,
      "outputs": [
        {
          "output_type": "execute_result",
          "data": {
            "text/plain": [
              "array([34, 51, 48, 57, 24, 25, 16, 39, 29])"
            ]
          },
          "metadata": {
            "tags": []
          },
          "execution_count": 7
        }
      ]
    },
    {
      "cell_type": "code",
      "metadata": {
        "id": "wcGnHMGIPMwO",
        "outputId": "7843482d-762c-46ad-f26c-286bd1bd3ad9",
        "colab": {
          "base_uri": "https://localhost:8080/",
          "height": 51
        }
      },
      "source": [
        "# 2D striding\n",
        "\n",
        "x = np.array([[1, 2, 3],\n",
        "              [4, 5, 6],\n",
        "              [7, 8, 9]])\n",
        "w = np.array([[2, 0], [0, 0]])\n",
        "\n",
        "from scipy.signal import correlate2d\n",
        "correlate2d(x, w, mode='valid')"
      ],
      "execution_count": 8,
      "outputs": [
        {
          "output_type": "execute_result",
          "data": {
            "text/plain": [
              "array([[ 2,  4],\n",
              "       [ 8, 10]])"
            ]
          },
          "metadata": {
            "tags": []
          },
          "execution_count": 8
        }
      ]
    },
    {
      "cell_type": "code",
      "metadata": {
        "id": "dLv61Kf1QmQm",
        "outputId": "b650edcd-d5d6-4a1e-a4ad-2befa7201c9c",
        "colab": {
          "base_uri": "https://localhost:8080/",
          "height": 68
        }
      },
      "source": [
        "correlate2d(x, w, mode='same')"
      ],
      "execution_count": 9,
      "outputs": [
        {
          "output_type": "execute_result",
          "data": {
            "text/plain": [
              "array([[ 2,  4,  6],\n",
              "       [ 8, 10, 12],\n",
              "       [14, 16, 18]])"
            ]
          },
          "metadata": {
            "tags": []
          },
          "execution_count": 9
        }
      ]
    },
    {
      "cell_type": "code",
      "metadata": {
        "id": "T3We0RQ8RDRM"
      },
      "source": [
        "# Using TensorFlow\n",
        "\n",
        "import tensorflow as tf\n",
        "x_4d = x.astype(np.float).reshape(1, 3, 3, 1)\n",
        "w_4d = w.reshape(2, 2, 1, 1)"
      ],
      "execution_count": 10,
      "outputs": []
    },
    {
      "cell_type": "code",
      "metadata": {
        "id": "ArZBA3EbTDmn",
        "outputId": "891a3a1e-0611-4e55-d40c-971f4efa6603",
        "colab": {
          "base_uri": "https://localhost:8080/",
          "height": 221
        }
      },
      "source": [
        "c_out = tf.nn.conv2d(x_4d, w_4d, strides=1, padding='SAME') #4d\n",
        "print(c_out)"
      ],
      "execution_count": 11,
      "outputs": [
        {
          "output_type": "stream",
          "text": [
            "tf.Tensor(\n",
            "[[[[ 2.]\n",
            "   [ 4.]\n",
            "   [ 6.]]\n",
            "\n",
            "  [[ 8.]\n",
            "   [10.]\n",
            "   [12.]]\n",
            "\n",
            "  [[14.]\n",
            "   [16.]\n",
            "   [18.]]]], shape=(1, 3, 3, 1), dtype=float64)\n"
          ],
          "name": "stdout"
        }
      ]
    },
    {
      "cell_type": "code",
      "metadata": {
        "id": "ZjnhTngQTRwF",
        "outputId": "3516a0e5-18a0-4092-b374-6764c03887fd",
        "colab": {
          "base_uri": "https://localhost:8080/",
          "height": 68
        }
      },
      "source": [
        "c_out.numpy().reshape(3, 3) # 4d -> 2d "
      ],
      "execution_count": 12,
      "outputs": [
        {
          "output_type": "execute_result",
          "data": {
            "text/plain": [
              "array([[ 2.,  4.,  6.],\n",
              "       [ 8., 10., 12.],\n",
              "       [14., 16., 18.]])"
            ]
          },
          "metadata": {
            "tags": []
          },
          "execution_count": 12
        }
      ]
    },
    {
      "cell_type": "code",
      "metadata": {
        "id": "uDB8iMgyTnQa"
      },
      "source": [
        "# Pooling \n",
        "\n",
        "x = np.array([[1, 2, 3, 4],\n",
        "              [5, 6, 7, 8],\n",
        "              [9, 10, 11, 12],\n",
        "              [13, 14, 15, 16]])\n",
        "\n",
        "x = x.reshape(1, 4, 4, 1)"
      ],
      "execution_count": 13,
      "outputs": []
    },
    {
      "cell_type": "code",
      "metadata": {
        "id": "wyTc4dc192Zi",
        "outputId": "443e6192-eaad-4256-be35-c73a6298ade2",
        "colab": {
          "base_uri": "https://localhost:8080/",
          "height": 340
        }
      },
      "source": [
        "x"
      ],
      "execution_count": 14,
      "outputs": [
        {
          "output_type": "execute_result",
          "data": {
            "text/plain": [
              "array([[[[ 1],\n",
              "         [ 2],\n",
              "         [ 3],\n",
              "         [ 4]],\n",
              "\n",
              "        [[ 5],\n",
              "         [ 6],\n",
              "         [ 7],\n",
              "         [ 8]],\n",
              "\n",
              "        [[ 9],\n",
              "         [10],\n",
              "         [11],\n",
              "         [12]],\n",
              "\n",
              "        [[13],\n",
              "         [14],\n",
              "         [15],\n",
              "         [16]]]])"
            ]
          },
          "metadata": {
            "tags": []
          },
          "execution_count": 14
        }
      ]
    },
    {
      "cell_type": "code",
      "metadata": {
        "id": "tJIKzOER926d",
        "outputId": "633ddf2f-43ad-4873-be9b-299e94884d23",
        "colab": {
          "base_uri": "https://localhost:8080/",
          "height": 51
        }
      },
      "source": [
        "p_out = tf.nn.max_pool2d(x, ksize=2, strides=2, padding='VALID')\n",
        "p_out.numpy().reshape(2, 2)"
      ],
      "execution_count": 15,
      "outputs": [
        {
          "output_type": "execute_result",
          "data": {
            "text/plain": [
              "array([[ 6.,  8.],\n",
              "       [14., 16.]], dtype=float32)"
            ]
          },
          "metadata": {
            "tags": []
          },
          "execution_count": 15
        }
      ]
    },
    {
      "cell_type": "code",
      "metadata": {
        "id": "U1V49QRR-P2k"
      },
      "source": [
        "# ReLu\n",
        "\n",
        "def relu(x):\n",
        "    return np.maximum(x, 0)"
      ],
      "execution_count": 16,
      "outputs": []
    },
    {
      "cell_type": "code",
      "metadata": {
        "id": "FgSSa9pp_fJX",
        "outputId": "192560ae-13a5-4bc9-92dd-9d2b201e6aa5",
        "colab": {
          "base_uri": "https://localhost:8080/",
          "height": 34
        }
      },
      "source": [
        "x = np.array([-1, 2, -3, 4, -5])\n",
        "relu(x)"
      ],
      "execution_count": 17,
      "outputs": [
        {
          "output_type": "execute_result",
          "data": {
            "text/plain": [
              "array([0, 2, 0, 4, 0])"
            ]
          },
          "metadata": {
            "tags": []
          },
          "execution_count": 17
        }
      ]
    },
    {
      "cell_type": "markdown",
      "metadata": {
        "id": "QiQsaGad_j7k"
      },
      "source": [
        "# ReLu from tensorFlow\n",
        "\n",
        "r_out = tf.nn.relu(x) # output type tensor object\n",
        "r_out.numpy() # change to np"
      ]
    },
    {
      "cell_type": "code",
      "metadata": {
        "id": "lNt3NG66_uQ5"
      },
      "source": [
        "class ConvolutionNetwork:\n",
        "    def __init__(self, n_kernels=10, units=10, batch_size=32, learning_rate=0.1):\n",
        "        self.n_kernels = n_kernels # number of kernels of CNN\n",
        "        self.kernel_size = 3\n",
        "        self.optimizer = None\n",
        "        self.conv_w = None\n",
        "        self.conv_b = None\n",
        "        self.units = units # number of neurons\n",
        "        self.batch_size = batch_size\n",
        "        self.w1 = None\n",
        "        self.b1 = None\n",
        "        self.w2 = None\n",
        "        self.b2 = None\n",
        "        self.a1 = None\n",
        "        self.losses = []\n",
        "        self.val_losses = []\n",
        "        self.lr = learning_rate\n",
        "\n",
        "    def forpass(self, x):\n",
        "        # Calculate 3 x 3 CNN\n",
        "        c_out = tf.nn.conv2d(x, self.conv_w, strides=1, padding='SAME') + self.conv_b\n",
        "        # Activation ReLu\n",
        "        r_out = tf.nn.relu(c_out)\n",
        "        # Apply 2 X 2 Pooling\n",
        "        p_out = tf.nn.max_pool2d(r_out, ksize=2, strides=2, padding='VALID')\n",
        "        # Make it 1D (except for the first batch dim)\n",
        "        f_out = tf.reshape(p_out, [x.shape[0], -1])\n",
        "        z1 = tf.matmul(f_out, self.w1) + self.b1\n",
        "        a1 = tf.nn.relu(z1)\n",
        "        z2 = tf.matmul(a1, self.w2) + self.b2\n",
        "        return z2\n",
        "\n",
        "    def init_weights(self, input_shape, n_classes):\n",
        "        g = tf.initializers.glorot_uniform()\n",
        "        self.conv_w = tf.Variable(g((3, 3, 1, self.n_kernels))) # 3 x 3 x 1(black or white) * n_kernes (4d)\n",
        "        self.conv_b = tf.Variable(np.zeros(self.n_kernels), dtype=float)\n",
        "        n_features = 14 * 14 * self.n_kernels\n",
        "        self.w1 = tf.Variable(g((n_features, self.units))) #(number of features, number of hidden layers)\n",
        "        self.b1 = tf.Variable(np.zeros(self.units), dtype=float) # number of hidden layers\n",
        "        self.w2 = tf.Variable(g((self.units, n_classes))) # (number of hidden layers, number of classes)\n",
        "        self.b2 = tf.Variable(np.zeros(n_classes), dtype=float) # number of classes\n",
        "\n",
        "    def fit(self, x, y, epochs=100, x_val=None, y_val=None):\n",
        "        self.init_weights(x.shape, y.shape[1]) # initialize the weights of hidden and output layer\n",
        "        self.optimizer = tf.optimizers.SGD(learning_rate=self.lr)\n",
        "\n",
        "        for i in range(epochs):\n",
        "            print('Epoch', i, end=' ')\n",
        "\n",
        "            batch_losses = []\n",
        "            for x_batch, y_batch in self.gen_batch(x, y):\n",
        "                print('.', end='')\n",
        "                self.training(x_batch, y_batch)\n",
        "                batch_losses.append(self.get_loss(x_batch, y_batch))\n",
        "            print()\n",
        "            self.losses.append(np.mean(batch_losses))\n",
        "            self.val_losses.append(self.get_loss(x_val, y_val))\n",
        "\n",
        "    def gen_batch(self, x, y):\n",
        "        bins = len(x) // self.batch_size # number of mini-batch\n",
        "        indexes = np.random.permutation(np.arange(len(x)))\n",
        "        x = x[indexes]\n",
        "        y = y[indexes]\n",
        "        for i in range(bins):\n",
        "            start = self.batch_size * i\n",
        "            end = self.batch_size * (i + 1)\n",
        "            yield x[start:end], y[start:end]\n",
        "\n",
        "    def training(self, x, y):\n",
        "        m = len(x)\n",
        "        with tf.GradientTape() as tape:\n",
        "            z = self.forpass(x)\n",
        "\n",
        "            loss = tf.nn.softmax_cross_entropy_with_logits(y, z)\n",
        "            loss = tf.reduce_mean(loss)\n",
        "        weights_list = [self.conv_w, self.conv_b, self.w1, self.b1, self.w2, self.b2]\n",
        "\n",
        "        grads = tape.gradient(loss, weights_list)\n",
        "        self.optimizer.apply_gradients(zip(grads, weights_list))\n",
        "\n",
        "    def predict(self, x):\n",
        "        z = self.forpass(x)\n",
        "        return np.argmax(z.numpy(), axis=1)\n",
        "\n",
        "    def score(self, x, y):\n",
        "        return np.mean(self.predict(x) == np.argmax(y, axis=1))\n",
        "\n",
        "    def get_loss(self, x, y):\n",
        "        z = self.forpass(x)\n",
        "        loss = tf.reduce_mean(tf.nn.softmax_cross_entropy_with_logits(y, z))\n",
        "        return loss.numpy()"
      ],
      "execution_count": 18,
      "outputs": []
    },
    {
      "cell_type": "code",
      "metadata": {
        "id": "dmLPnlq3NBkt",
        "outputId": "19801e7d-2673-470e-c34d-b306ad77e649",
        "colab": {
          "base_uri": "https://localhost:8080/",
          "height": 153
        }
      },
      "source": [
        "(x_train_all, y_train_all), (x_test, y_test) = tf.keras.datasets.fashion_mnist.load_data()"
      ],
      "execution_count": 19,
      "outputs": [
        {
          "output_type": "stream",
          "text": [
            "Downloading data from https://storage.googleapis.com/tensorflow/tf-keras-datasets/train-labels-idx1-ubyte.gz\n",
            "32768/29515 [=================================] - 0s 0us/step\n",
            "Downloading data from https://storage.googleapis.com/tensorflow/tf-keras-datasets/train-images-idx3-ubyte.gz\n",
            "26427392/26421880 [==============================] - 0s 0us/step\n",
            "Downloading data from https://storage.googleapis.com/tensorflow/tf-keras-datasets/t10k-labels-idx1-ubyte.gz\n",
            "8192/5148 [===============================================] - 0s 0us/step\n",
            "Downloading data from https://storage.googleapis.com/tensorflow/tf-keras-datasets/t10k-images-idx3-ubyte.gz\n",
            "4423680/4422102 [==============================] - 0s 0us/step\n"
          ],
          "name": "stdout"
        }
      ]
    },
    {
      "cell_type": "code",
      "metadata": {
        "id": "1LglVUTANNKH"
      },
      "source": [
        "from sklearn.model_selection import train_test_split\n",
        "x_train, x_val, y_train, y_val = train_test_split(x_train_all, y_train_all,\n",
        "                                                  stratify=y_train_all, test_size=0.2,\n",
        "                                                  random_state=42)"
      ],
      "execution_count": 20,
      "outputs": []
    },
    {
      "cell_type": "code",
      "metadata": {
        "id": "TykMPs_yNgR8"
      },
      "source": [
        "y_train_encoded = tf.keras.utils.to_categorical(y_train)\n",
        "y_val_encoded = tf.keras.utils.to_categorical(y_val)"
      ],
      "execution_count": 32,
      "outputs": []
    },
    {
      "cell_type": "code",
      "metadata": {
        "id": "3WfGcc85Ni_i"
      },
      "source": [
        "x_train = x_train.reshape(-1, 28, 28, 1)\n",
        "x_val = x_val.reshape(-1, 28, 28, 1)"
      ],
      "execution_count": 22,
      "outputs": []
    },
    {
      "cell_type": "code",
      "metadata": {
        "id": "4w0sGoT5OKFS",
        "outputId": "b9d03013-cefa-4911-df0f-9b259ffac3d9",
        "colab": {
          "base_uri": "https://localhost:8080/",
          "height": 34
        }
      },
      "source": [
        "x_train.shape"
      ],
      "execution_count": 23,
      "outputs": [
        {
          "output_type": "execute_result",
          "data": {
            "text/plain": [
              "(48000, 28, 28, 1)"
            ]
          },
          "metadata": {
            "tags": []
          },
          "execution_count": 23
        }
      ]
    },
    {
      "cell_type": "code",
      "metadata": {
        "id": "F6MxYs1LOLns"
      },
      "source": [
        "x_train = x_train / 255\n",
        "x_val = x_val / 255"
      ],
      "execution_count": 24,
      "outputs": []
    },
    {
      "cell_type": "code",
      "metadata": {
        "id": "jHGGvKDTOTrv",
        "outputId": "d9d2f3ee-2a2c-46b1-be22-5a5e28dfea88",
        "colab": {
          "base_uri": "https://localhost:8080/",
          "height": 377
        }
      },
      "source": [
        "cn = ConvolutionNetwork(n_kernels=10, units=100, batch_size=128, learning_rate=0.01)\n",
        "cn.fit(x_train, y_train_encoded, x_val=x_val, y_val=y_val_endoded, epochs=20)"
      ],
      "execution_count": 25,
      "outputs": [
        {
          "output_type": "stream",
          "text": [
            "Epoch 0 .......................................................................................................................................................................................................................................................................................................................................................................................\n",
            "Epoch 1 .......................................................................................................................................................................................................................................................................................................................................................................................\n",
            "Epoch 2 .......................................................................................................................................................................................................................................................................................................................................................................................\n",
            "Epoch 3 .......................................................................................................................................................................................................................................................................................................................................................................................\n",
            "Epoch 4 .......................................................................................................................................................................................................................................................................................................................................................................................\n",
            "Epoch 5 .......................................................................................................................................................................................................................................................................................................................................................................................\n",
            "Epoch 6 .......................................................................................................................................................................................................................................................................................................................................................................................\n",
            "Epoch 7 .......................................................................................................................................................................................................................................................................................................................................................................................\n",
            "Epoch 8 .......................................................................................................................................................................................................................................................................................................................................................................................\n",
            "Epoch 9 .......................................................................................................................................................................................................................................................................................................................................................................................\n",
            "Epoch 10 .......................................................................................................................................................................................................................................................................................................................................................................................\n",
            "Epoch 11 .......................................................................................................................................................................................................................................................................................................................................................................................\n",
            "Epoch 12 .......................................................................................................................................................................................................................................................................................................................................................................................\n",
            "Epoch 13 .......................................................................................................................................................................................................................................................................................................................................................................................\n",
            "Epoch 14 .......................................................................................................................................................................................................................................................................................................................................................................................\n",
            "Epoch 15 .......................................................................................................................................................................................................................................................................................................................................................................................\n",
            "Epoch 16 .......................................................................................................................................................................................................................................................................................................................................................................................\n",
            "Epoch 17 .......................................................................................................................................................................................................................................................................................................................................................................................\n",
            "Epoch 18 .......................................................................................................................................................................................................................................................................................................................................................................................\n",
            "Epoch 19 .......................................................................................................................................................................................................................................................................................................................................................................................\n"
          ],
          "name": "stdout"
        }
      ]
    },
    {
      "cell_type": "code",
      "metadata": {
        "id": "Ou0q5iyvOob_",
        "outputId": "80614891-8120-484c-99c6-978c101cc26d",
        "colab": {
          "base_uri": "https://localhost:8080/",
          "height": 279
        }
      },
      "source": [
        "import matplotlib.pyplot as plt\n",
        "\n",
        "plt.plot(cn.losses)\n",
        "plt.plot(cn.val_losses)\n",
        "plt.ylabel('loss')\n",
        "plt.xlabel('iteration')\n",
        "plt.legend(['train_loss', 'val_loss'])\n",
        "plt.show()"
      ],
      "execution_count": 26,
      "outputs": [
        {
          "output_type": "display_data",
          "data": {
            "image/png": "[encoded data removed]",
            "text/plain": [
              "<Figure size 432x288 with 1 Axes>"
            ]
          },
          "metadata": {
            "tags": [],
            "needs_background": "light"
          }
        }
      ]
    },
    {
      "cell_type": "code",
      "metadata": {
        "id": "kPeH1VA9STeQ",
        "outputId": "ab399c5e-d187-4286-b0c7-8a233e3d68e6",
        "colab": {
          "base_uri": "https://localhost:8080/",
          "height": 34
        }
      },
      "source": [
        "cn.score(x_val, y_val_endoded)"
      ],
      "execution_count": 27,
      "outputs": [
        {
          "output_type": "execute_result",
          "data": {
            "text/plain": [
              "0.8810833333333333"
            ]
          },
          "metadata": {
            "tags": []
          },
          "execution_count": 27
        }
      ]
    },
    {
      "cell_type": "code",
      "metadata": {
        "id": "KpSbVX8dSh2-"
      },
      "source": [
        "conv1 = tf.keras.Sequential()\n",
        "conv1.add(tf.keras.layers.Conv2D(10, (3, 3), activation='relu', padding='same', input_shape=(28, 28, 1)))"
      ],
      "execution_count": 29,
      "outputs": []
    },
    {
      "cell_type": "code",
      "metadata": {
        "id": "Z746z3j6xTef",
        "outputId": "a2a1c0c6-41d5-4fb8-bb93-a30681ab86a5",
        "colab": {
          "base_uri": "https://localhost:8080/",
          "height": 323
        }
      },
      "source": [
        "# Pooling layers\n",
        "conv1.add(tf.keras.layers.MaxPooling2D(2, 2)) \n",
        "\n",
        "# flatten the map\n",
        "conv1.add(tf.keras.layers.Flatten())\n",
        "\n",
        "# 완전 연결층\n",
        "conv1.add(tf.keras.layers.Dense(100, activation='relu'))\n",
        "conv1.add(tf.keras.layers.Dense(10, activation='softmax'))\n",
        "\n",
        "conv1.summary()"
      ],
      "execution_count": 30,
      "outputs": [
        {
          "output_type": "stream",
          "text": [
            "Model: \"sequential\"\n",
            "_________________________________________________________________\n",
            "Layer (type)                 Output Shape              Param #   \n",
            "=================================================================\n",
            "conv2d (Conv2D)              (None, 28, 28, 10)        100       \n",
            "_________________________________________________________________\n",
            "max_pooling2d (MaxPooling2D) (None, 14, 14, 10)        0         \n",
            "_________________________________________________________________\n",
            "flatten (Flatten)            (None, 1960)              0         \n",
            "_________________________________________________________________\n",
            "dense (Dense)                (None, 100)               196100    \n",
            "_________________________________________________________________\n",
            "dense_1 (Dense)              (None, 10)                1010      \n",
            "=================================================================\n",
            "Total params: 197,210\n",
            "Trainable params: 197,210\n",
            "Non-trainable params: 0\n",
            "_________________________________________________________________\n"
          ],
          "name": "stdout"
        }
      ]
    },
    {
      "cell_type": "code",
      "metadata": {
        "id": "lA3ajWM9zfKs",
        "outputId": "8ff46774-5434-4994-c8d0-3acb5ad3da1d",
        "colab": {
          "base_uri": "https://localhost:8080/",
          "height": 697
        }
      },
      "source": [
        "conv1.compile(optimizer='adam', loss='categorical_crossentropy', metrics=['accuracy'])\n",
        "history = conv1.fit(x_train, y_train_encoded, epochs=20, validation_data=(x_val, y_val_encoded))"
      ],
      "execution_count": 33,
      "outputs": [
        {
          "output_type": "stream",
          "text": [
            "Epoch 1/20\n",
            "1500/1500 [==============================] - 23s 16ms/step - loss: 0.4534 - accuracy: 0.8393 - val_loss: 0.3845 - val_accuracy: 0.8632\n",
            "Epoch 2/20\n",
            "1500/1500 [==============================] - 23s 16ms/step - loss: 0.3203 - accuracy: 0.8859 - val_loss: 0.3087 - val_accuracy: 0.8877\n",
            "Epoch 3/20\n",
            "1500/1500 [==============================] - 23s 15ms/step - loss: 0.2734 - accuracy: 0.9018 - val_loss: 0.2820 - val_accuracy: 0.9003\n",
            "Epoch 4/20\n",
            "1500/1500 [==============================] - 23s 15ms/step - loss: 0.2393 - accuracy: 0.9124 - val_loss: 0.2616 - val_accuracy: 0.9057\n",
            "Epoch 5/20\n",
            "1500/1500 [==============================] - 23s 15ms/step - loss: 0.2134 - accuracy: 0.9219 - val_loss: 0.2614 - val_accuracy: 0.9068\n",
            "Epoch 6/20\n",
            "1500/1500 [==============================] - 24s 16ms/step - loss: 0.1915 - accuracy: 0.9296 - val_loss: 0.2578 - val_accuracy: 0.9109\n",
            "Epoch 7/20\n",
            "1500/1500 [==============================] - 28s 19ms/step - loss: 0.1693 - accuracy: 0.9388 - val_loss: 0.2602 - val_accuracy: 0.9133\n",
            "Epoch 8/20\n",
            "1500/1500 [==============================] - 28s 19ms/step - loss: 0.1513 - accuracy: 0.9442 - val_loss: 0.2621 - val_accuracy: 0.9153\n",
            "Epoch 9/20\n",
            "1500/1500 [==============================] - 30s 20ms/step - loss: 0.1361 - accuracy: 0.9494 - val_loss: 0.2623 - val_accuracy: 0.9140\n",
            "Epoch 10/20\n",
            "1500/1500 [==============================] - 29s 19ms/step - loss: 0.1194 - accuracy: 0.9567 - val_loss: 0.2849 - val_accuracy: 0.9130\n",
            "Epoch 11/20\n",
            "1500/1500 [==============================] - 29s 19ms/step - loss: 0.1082 - accuracy: 0.9606 - val_loss: 0.3148 - val_accuracy: 0.9102\n",
            "Epoch 12/20\n",
            "1500/1500 [==============================] - 29s 19ms/step - loss: 0.0955 - accuracy: 0.9647 - val_loss: 0.3210 - val_accuracy: 0.9119\n",
            "Epoch 13/20\n",
            "1500/1500 [==============================] - 29s 19ms/step - loss: 0.0873 - accuracy: 0.9681 - val_loss: 0.3022 - val_accuracy: 0.9149\n",
            "Epoch 14/20\n",
            "1500/1500 [==============================] - 29s 19ms/step - loss: 0.0766 - accuracy: 0.9718 - val_loss: 0.3028 - val_accuracy: 0.9193\n",
            "Epoch 15/20\n",
            "1500/1500 [==============================] - 29s 19ms/step - loss: 0.0671 - accuracy: 0.9755 - val_loss: 0.3433 - val_accuracy: 0.9096\n",
            "Epoch 16/20\n",
            "1500/1500 [==============================] - 29s 20ms/step - loss: 0.0602 - accuracy: 0.9783 - val_loss: 0.3426 - val_accuracy: 0.9182\n",
            "Epoch 17/20\n",
            "1500/1500 [==============================] - 29s 19ms/step - loss: 0.0544 - accuracy: 0.9804 - val_loss: 0.3639 - val_accuracy: 0.9162\n",
            "Epoch 18/20\n",
            "1500/1500 [==============================] - 29s 19ms/step - loss: 0.0486 - accuracy: 0.9825 - val_loss: 0.3710 - val_accuracy: 0.9171\n",
            "Epoch 19/20\n",
            "1500/1500 [==============================] - 29s 19ms/step - loss: 0.0440 - accuracy: 0.9845 - val_loss: 0.3833 - val_accuracy: 0.9160\n",
            "Epoch 20/20\n",
            "1500/1500 [==============================] - 30s 20ms/step - loss: 0.0392 - accuracy: 0.9866 - val_loss: 0.4176 - val_accuracy: 0.9159\n"
          ],
          "name": "stdout"
        }
      ]
    },
    {
      "cell_type": "code",
      "metadata": {
        "id": "JE2wZRKJ02AX",
        "outputId": "0db71d1b-ea27-425c-a6ed-733481ad2f3c",
        "colab": {
          "base_uri": "https://localhost:8080/",
          "height": 541
        }
      },
      "source": [
        "plt.plot(history.history['loss'])\n",
        "plt.plot(history.history['val_loss'])\n",
        "plt.ylabel('loss')\n",
        "plt.xlabel('epoch')\n",
        "plt.legend(['train_loss', 'val_loss'])\n",
        "plt.show()\n",
        "\n",
        "plt.plot(history.history['accuracy'])\n",
        "plt.plot(history.history['val_accuracy'])\n",
        "plt.ylabel('loss')\n",
        "plt.xlabel('epoch')\n",
        "plt.legend(['train_accuracy', 'val_accuracy'])\n",
        "plt.show()"
      ],
      "execution_count": 34,
      "outputs": [
        {
          "output_type": "display_data",
          "data": {
            "image/png": "[encoded data removed]",
            "text/plain": [
              "<Figure size 432x288 with 1 Axes>"
            ]
          },
          "metadata": {
            "tags": [],
            "needs_background": "light"
          }
        },
        {
          "output_type": "display_data",
          "data": {
            "image/png": "[encoded data removed]",
            "text/plain": [
              "<Figure size 432x288 with 1 Axes>"
            ]
          },
          "metadata": {
            "tags": [],
            "needs_background": "light"
          }
        }
      ]
    },
    {
      "cell_type": "code",
      "metadata": {
        "id": "UeZdSEMv7CZ_"
      },
      "source": [
        "# with drop out\n",
        "conv2 = tf.keras.Sequential()\n",
        "conv2.add(tf.keras.layers.Conv2D(10, (3, 3), activation='relu', padding='same', input_shape=(28, 28, 1)))\n",
        "conv2.add(tf.keras.layers.MaxPooling2D(2, 2))\n",
        "conv2.add(tf.keras.layers.Flatten())\n",
        "conv2.add(tf.keras.layers.Dropout(0.5))\n",
        "conv2.add(tf.keras.layers.Dense(100, activation='relu'))\n",
        "conv2.add(tf.keras.layers.Dense(10, activation='softmax'))"
      ],
      "execution_count": 36,
      "outputs": []
    },
    {
      "cell_type": "code",
      "metadata": {
        "id": "BfY3nfgx_jFc",
        "outputId": "e1eaa730-e7bf-4908-bebe-eee6fcf4ac16",
        "colab": {
          "base_uri": "https://localhost:8080/",
          "height": 357
        }
      },
      "source": [
        "conv2.summary()"
      ],
      "execution_count": 37,
      "outputs": [
        {
          "output_type": "stream",
          "text": [
            "Model: \"sequential_2\"\n",
            "_________________________________________________________________\n",
            "Layer (type)                 Output Shape              Param #   \n",
            "=================================================================\n",
            "conv2d_2 (Conv2D)            (None, 28, 28, 10)        100       \n",
            "_________________________________________________________________\n",
            "max_pooling2d_1 (MaxPooling2 (None, 14, 14, 10)        0         \n",
            "_________________________________________________________________\n",
            "flatten_1 (Flatten)          (None, 1960)              0         \n",
            "_________________________________________________________________\n",
            "dropout (Dropout)            (None, 1960)              0         \n",
            "_________________________________________________________________\n",
            "dense_2 (Dense)              (None, 100)               196100    \n",
            "_________________________________________________________________\n",
            "dense_3 (Dense)              (None, 10)                1010      \n",
            "=================================================================\n",
            "Total params: 197,210\n",
            "Trainable params: 197,210\n",
            "Non-trainable params: 0\n",
            "_________________________________________________________________\n"
          ],
          "name": "stdout"
        }
      ]
    },
    {
      "cell_type": "code",
      "metadata": {
        "id": "4Om2O80G_r8b",
        "outputId": "af80e04f-e06a-4292-c876-27c51ff2fed8",
        "colab": {
          "base_uri": "https://localhost:8080/",
          "height": 697
        }
      },
      "source": [
        "conv2.compile(optimizer='adam', loss='categorical_crossentropy', \n",
        "              metrics=['accuracy'])\n",
        "history = conv2.fit(x_train, y_train_encoded, epochs=20, \n",
        "                    validation_data=(x_val, y_val_encoded))"
      ],
      "execution_count": 38,
      "outputs": [
        {
          "output_type": "stream",
          "text": [
            "Epoch 1/20\n",
            "1500/1500 [==============================] - 37s 25ms/step - loss: 0.5154 - accuracy: 0.8163 - val_loss: 0.3543 - val_accuracy: 0.8763\n",
            "Epoch 2/20\n",
            "1500/1500 [==============================] - 37s 25ms/step - loss: 0.3797 - accuracy: 0.8628 - val_loss: 0.3156 - val_accuracy: 0.8901\n",
            "Epoch 3/20\n",
            "1500/1500 [==============================] - 37s 25ms/step - loss: 0.3400 - accuracy: 0.8768 - val_loss: 0.2888 - val_accuracy: 0.8972\n",
            "Epoch 4/20\n",
            "1500/1500 [==============================] - 39s 26ms/step - loss: 0.3082 - accuracy: 0.8868 - val_loss: 0.2862 - val_accuracy: 0.8938\n",
            "Epoch 5/20\n",
            "1500/1500 [==============================] - 37s 25ms/step - loss: 0.2906 - accuracy: 0.8933 - val_loss: 0.2635 - val_accuracy: 0.9043\n",
            "Epoch 6/20\n",
            "1500/1500 [==============================] - 35s 23ms/step - loss: 0.2774 - accuracy: 0.8976 - val_loss: 0.2541 - val_accuracy: 0.9072\n",
            "Epoch 7/20\n",
            "1500/1500 [==============================] - 38s 26ms/step - loss: 0.2636 - accuracy: 0.9028 - val_loss: 0.2475 - val_accuracy: 0.9111\n",
            "Epoch 8/20\n",
            "1500/1500 [==============================] - 39s 26ms/step - loss: 0.2503 - accuracy: 0.9069 - val_loss: 0.2439 - val_accuracy: 0.9094\n",
            "Epoch 9/20\n",
            "1500/1500 [==============================] - 41s 27ms/step - loss: 0.2404 - accuracy: 0.9105 - val_loss: 0.2351 - val_accuracy: 0.9153\n",
            "Epoch 10/20\n",
            "1500/1500 [==============================] - 40s 27ms/step - loss: 0.2294 - accuracy: 0.9151 - val_loss: 0.2353 - val_accuracy: 0.9183\n",
            "Epoch 11/20\n",
            "1500/1500 [==============================] - 40s 27ms/step - loss: 0.2225 - accuracy: 0.9165 - val_loss: 0.2464 - val_accuracy: 0.9105\n",
            "Epoch 12/20\n",
            "1500/1500 [==============================] - 38s 25ms/step - loss: 0.2170 - accuracy: 0.9190 - val_loss: 0.2307 - val_accuracy: 0.9178\n",
            "Epoch 13/20\n",
            "1500/1500 [==============================] - 36s 24ms/step - loss: 0.2123 - accuracy: 0.9210 - val_loss: 0.2453 - val_accuracy: 0.9114\n",
            "Epoch 14/20\n",
            "1500/1500 [==============================] - 38s 26ms/step - loss: 0.2058 - accuracy: 0.9232 - val_loss: 0.2310 - val_accuracy: 0.9182\n",
            "Epoch 15/20\n",
            "1500/1500 [==============================] - 42s 28ms/step - loss: 0.2003 - accuracy: 0.9245 - val_loss: 0.2316 - val_accuracy: 0.9166\n",
            "Epoch 16/20\n",
            "1500/1500 [==============================] - 40s 26ms/step - loss: 0.1948 - accuracy: 0.9265 - val_loss: 0.2301 - val_accuracy: 0.9195\n",
            "Epoch 17/20\n",
            "1500/1500 [==============================] - 39s 26ms/step - loss: 0.1883 - accuracy: 0.9296 - val_loss: 0.2364 - val_accuracy: 0.9158\n",
            "Epoch 18/20\n",
            "1500/1500 [==============================] - 42s 28ms/step - loss: 0.1876 - accuracy: 0.9288 - val_loss: 0.2282 - val_accuracy: 0.9197\n",
            "Epoch 19/20\n",
            "1500/1500 [==============================] - 40s 27ms/step - loss: 0.1827 - accuracy: 0.9318 - val_loss: 0.2329 - val_accuracy: 0.9183\n",
            "Epoch 20/20\n",
            "1500/1500 [==============================] - 41s 27ms/step - loss: 0.1818 - accuracy: 0.9319 - val_loss: 0.2259 - val_accuracy: 0.9202\n"
          ],
          "name": "stdout"
        }
      ]
    },
    {
      "cell_type": "code",
      "metadata": {
        "id": "dk_ICkAVAIgA",
        "outputId": "1a0ea01a-1859-4553-9919-cb03336b54e7",
        "colab": {
          "base_uri": "https://localhost:8080/",
          "height": 541
        }
      },
      "source": [
        "plt.plot(history.history['loss'])\n",
        "plt.plot(history.history['val_loss'])\n",
        "plt.ylabel('loss')\n",
        "plt.xlabel('epoch')\n",
        "plt.legend(['train_loss', 'val_loss'])\n",
        "plt.show()\n",
        "\n",
        "plt.plot(history.history['accuracy'])\n",
        "plt.plot(history.history['val_accuracy'])\n",
        "plt.ylabel('loss')\n",
        "plt.xlabel('epoch')\n",
        "plt.legend(['train_accuracy', 'val_accuracy'])\n",
        "plt.show()"
      ],
      "execution_count": 39,
      "outputs": [
        {
          "output_type": "display_data",
          "data": {
            "image/png": "[encoded data removed]",
            "text/plain": [
              "<Figure size 432x288 with 1 Axes>"
            ]
          },
          "metadata": {
            "tags": [],
            "needs_background": "light"
          }
        },
        {
          "output_type": "display_data",
          "data": {
            "image/png": "[encoded data removed]",
            "text/plain": [
              "<Figure size 432x288 with 1 Axes>"
            ]
          },
          "metadata": {
            "tags": [],
            "needs_background": "light"
          }
        }
      ]
    },
    {
      "cell_type": "code",
      "metadata": {
        "id": "9vnuBqRcBGEa"
      },
      "source": [
        ""
      ],
      "execution_count": null,
      "outputs": []
    }
  ]
}